{
 "cells": [
  {
   "cell_type": "code",
   "execution_count": null,
   "metadata": {
    "vscode": {
     "languageId": "plaintext"
    }
   },
   "outputs": [],
   "source": [
    "# This Python 3 environment comes with many helpful analytics libraries installed\n",
    "# It is defined by the kaggle/python Docker image: https://github.com/kaggle/docker-python\n",
    "# For example, here's several helpful packages to load\n",
    "\n",
    "import numpy as np # linear algebra\n",
    "import pandas as pd # data processing, CSV file I/O (e.g. pd.read_csv)\n",
    "\n",
    "# Input data files are available in the read-only \"../input/\" directory\n",
    "# For example, running this (by clicking run or pressing Shift+Enter) will list all files under the input directory\n",
    "\n",
    "import os\n",
    "for dirname, _, filenames in os.walk('/kaggle/input'):\n",
    "    for filename in filenames:\n",
    "        print(os.path.join(dirname, filename))\n",
    "\n",
    "# You can write up to 20GB to the current directory (/kaggle/working/) that gets preserved as output when you create a version using \"Save & Run All\" \n",
    "# You can also write temporary files to /kaggle/temp/, but they won't be saved outside of the current session"
   ]
  },
  {
   "cell_type": "code",
   "execution_count": null,
   "metadata": {
    "vscode": {
     "languageId": "plaintext"
    }
   },
   "outputs": [],
   "source": [
    "import numpy as np\n",
    "import pandas as pd\n",
    "import matplotlib.pyplot as plt\n",
    "import seaborn as sns\n",
    "\n",
    "from sklearn.model_selection import train_test_split\n",
    "from sklearn.preprocessing import StandardScaler\n",
    "from sklearn.metrics import classification_report, balanced_accuracy_score\n",
    "\n",
    "from sklearn.linear_model import LogisticRegression\n",
    "from sklearn.ensemble import RandomForestClassifier, GradientBoostingClassifier\n",
    "from sklearn.svm import SVC\n",
    "\n",
    "from imblearn.over_sampling import SMOTE\n",
    "from sklearn.feature_selection import mutual_info_regression\n",
    "from sklearn.utils import resample\n",
    "from xgboost import XGBClassifier\n",
    "from lightgbm import LGBMClassifier\n",
    "from catboost import CatBoostClassifier\n",
    "import os\n",
    "\n",
    "# === 1. Імпорт даних та обробка пропусків ===\n",
    "file_train_path = '/kaggle/input/ml-fundamentals-and-applications-2025-01-09/final_proj_data.csv'\n",
    "file_test_path = '/kaggle/input/ml-fundamentals-and-applications-2025-01-09/final_proj_test.csv'\n",
    "\n",
    "train_data = pd.read_csv(file_train_path)\n",
    "valid_data = pd.read_csv(file_test_path)\n",
    "\n",
    "assert valid_data.shape[0] == 2500, f\"Валідаційні дані мають {valid_data.shape[0]} рядків, а не 2500!\"\n",
    "\n",
    "print(\"Дані для навчання\")\n",
    "print(train_data.head())\n",
    "print(f\"Кількість рядків у тренувальних даних: {train_data.shape[0]}\")\n",
    "\n",
    "print(\"\\nДані для валідації\")\n",
    "print(valid_data.head())\n",
    "print(f\"Кількість рядків у валідаційних даних: {valid_data.shape[0]}\")\n",
    "\n",
    "# Визначення числових і текстових колонок\n",
    "numeric_cols = train_data.select_dtypes(include=['number']).columns.tolist()\n",
    "categorical_cols = train_data.select_dtypes(include=['object']).columns.tolist()\n",
    "\n",
    "# Видалення 'y' з числових колонок, якщо вона є\n",
    "if 'y' in numeric_cols:\n",
    "    numeric_cols.remove('y')\n",
    "\n",
    "# Заповнення числових колонок\n",
    "train_data[numeric_cols] = train_data[numeric_cols].fillna(train_data[numeric_cols].mean())\n",
    "valid_data[numeric_cols] = valid_data[numeric_cols].fillna(valid_data[numeric_cols].mean())\n",
    "\n",
    "# Заповнення текстових колонок\n",
    "train_data[categorical_cols] = train_data[categorical_cols].fillna('missing')\n",
    "valid_data[categorical_cols] = valid_data[categorical_cols].fillna('missing')\n",
    "\n",
    "# Перевірка після обробки\n",
    "print(\"\\nПропуски в train_data після обробки:\")\n",
    "print(train_data.isnull().sum().sum())\n",
    "\n",
    "print(\"\\nПропуски в valid_data після обробки:\")\n",
    "print(valid_data.isnull().sum().sum())\n"
   ]
  },
  {
   "cell_type": "code",
   "execution_count": null,
   "metadata": {
    "vscode": {
     "languageId": "plaintext"
    }
   },
   "outputs": [],
   "source": [
    "# === 2. Балансування класів ===\n",
    "class_counts = train_data['y'].value_counts()\n",
    "print(\"Кількість кожного класу в тренувальних даних:\")\n",
    "print(class_counts)\n",
    "\n",
    "data_class_0 = train_data[train_data['y'] == 0]\n",
    "data_class_1 = train_data[train_data['y'] == 1]\n",
    "\n",
    "data_class_0_undersampled = resample(data_class_0, replace=False, n_samples=len(data_class_1), random_state=42)\n",
    "\n",
    "train_data = pd.concat([data_class_0_undersampled, data_class_1])\n",
    "print(\"Новий баланс класів:\")\n",
    "print(train_data['y'].value_counts())"
   ]
  },
  {
   "cell_type": "code",
   "execution_count": null,
   "metadata": {
    "vscode": {
     "languageId": "plaintext"
    }
   },
   "outputs": [],
   "source": [
    "# === 3. Видалення пропусків ===\n",
    "def clean_data(data):\n",
    "    column_threshold = 0.9  # Видаляємо колонки, де більше 90% пропусків\n",
    "    row_threshold = 0.7  # Видаляємо рядки, де більше 70% пропусків\n",
    "\n",
    "    missing_values = data.isnull().sum() / len(data)\n",
    "    columns_to_drop = missing_values[missing_values > column_threshold].index\n",
    "    data = data.drop(columns=columns_to_drop, errors='ignore')\n",
    "\n",
    "    row_missing = data.isnull().mean(axis=1)\n",
    "    rows_to_drop = row_missing[row_missing > row_threshold].index\n",
    "    data = data.drop(index=rows_to_drop)\n",
    "    return data\n",
    "\n",
    "train_data = clean_data(train_data)\n",
    "valid_data = clean_data(valid_data)\n",
    "print(f\"Кількість рядків у valid_data після clean_data: {valid_data.shape[0]}\")"
   ]
  },
  {
   "cell_type": "code",
   "execution_count": null,
   "metadata": {
    "vscode": {
     "languageId": "plaintext"
    }
   },
   "outputs": [],
   "source": [
    "# === 4. Видалення дублікатів ===\n",
    "def drop_duplicates(data):\n",
    "    return data.drop_duplicates()\n",
    "\n",
    "train_data = drop_duplicates(train_data)\n",
    "valid_data = drop_duplicates(valid_data)"
   ]
  },
  {
   "cell_type": "code",
   "execution_count": null,
   "metadata": {
    "vscode": {
     "languageId": "plaintext"
    }
   },
   "outputs": [],
   "source": [
    "# === 5. Визначення дискретних ознак ===\n",
    "discrete_features = [col for col in train_data.columns if train_data[col].dtype == 'object']\n",
    "if 'y' in discrete_features:\n",
    "    discrete_features.remove('y')\n",
    "print(\"Оновлений перелік дискретних ознак:\", discrete_features)\n",
    "\n",
    "for col in discrete_features:\n",
    "    train_data[col] = train_data[col].astype('category')\n",
    "    if 'missing' not in train_data[col].cat.categories:\n",
    "        train_data[col] = train_data[col].cat.add_categories(['missing'])\n",
    "    train_data[col] = train_data[col].fillna('missing')\n",
    "\n",
    "    valid_data[col] = valid_data[col].astype('category')\n",
    "    if 'missing' not in valid_data[col].cat.categories:\n",
    "        valid_data[col] = valid_data[col].cat.add_categories(['missing'])\n",
    "    valid_data[col] = valid_data[col].fillna('missing')\n",
    "    valid_data[col] = valid_data[col].cat.set_categories(train_data[col].cat.categories)"
   ]
  },
  {
   "cell_type": "code",
   "execution_count": null,
   "metadata": {
    "vscode": {
     "languageId": "plaintext"
    }
   },
   "outputs": [],
   "source": [
    "# === 6. Вибір ознак за показником взаємної інформації ===\n",
    "autos_encoded = train_data.copy()\n",
    "for col in discrete_features:\n",
    "    autos_encoded[col], _ = autos_encoded[col].factorize()\n",
    "\n",
    "X = autos_encoded.drop(columns=['y'])\n",
    "y = autos_encoded['y']\n",
    "\n",
    "print(\"Перевірка на NaN перед обробкою:\")\n",
    "print(X.isna().sum())\n",
    "X = X.fillna(X.mean())\n",
    "\n",
    "mi_scores = mutual_info_regression(X, y, discrete_features=[X.columns.get_loc(col) for col in discrete_features])\n",
    "mi_scores = pd.Series(mi_scores, name='MI Scores', index=X.columns).sort_values(ascending=False)\n",
    "print(\"Показники взаємної інформації:\")\n",
    "print(mi_scores)\n",
    "\n",
    "selected_features = mi_scores.head(50).index.tolist()\n",
    "train_data = train_data[selected_features + ['y']]\n",
    "valid_data = valid_data[selected_features]"
   ]
  },
  {
   "cell_type": "code",
   "execution_count": null,
   "metadata": {
    "vscode": {
     "languageId": "plaintext"
    }
   },
   "outputs": [],
   "source": [
    "# === 7. Кодування категоріальних ознак ===\n",
    "\n",
    "# Перевірка та фільтрація дискретних ознак\n",
    "discrete_features = [col for col in discrete_features if col in train_data.columns]\n",
    "\n",
    "# Узгодження категорій між тренувальними та валідаційними даними\n",
    "for col in discrete_features:\n",
    "    if col in valid_data.columns:\n",
    "        valid_data[col] = pd.Categorical(valid_data[col], categories=train_data[col].cat.categories)\n",
    "    else:\n",
    "        print(f\"Попередження: колонка '{col}' відсутня у valid_data. Пропускаємо.\")\n",
    "\n",
    "# Кодування категоріальних змінних\n",
    "train_data_encoded = pd.get_dummies(train_data, columns=discrete_features)\n",
    "valid_data_encoded = pd.get_dummies(valid_data, columns=discrete_features)\n",
    "\n",
    "# Вирівнювання колонок між тренувальними та валідаційними даними\n",
    "valid_data_encoded = valid_data_encoded.reindex(columns=train_data_encoded.columns.drop('y'), fill_value=0)\n",
    "\n",
    "# Перевірка кількості рядків у valid_data_encoded після обробки\n",
    "print(f\"Кількість рядків у valid_data_encoded до виправлення: {valid_data_encoded.shape[0]}\")\n",
    "\n",
    "# Додавання відсутніх рядків, якщо їх кількість менша за 2500\n",
    "if valid_data_encoded.shape[0] < 2500:\n",
    "    missing_rows = 2500 - valid_data_encoded.shape[0]\n",
    "    additional_rows = pd.DataFrame(0, index=range(missing_rows), columns=valid_data_encoded.columns)\n",
    "    valid_data_encoded = pd.concat([valid_data_encoded, additional_rows], ignore_index=True)\n",
    "\n",
    "# Перевірка після виправлення\n",
    "print(f\"Кількість рядків у valid_data_encoded після виправлення: {valid_data_encoded.shape[0]}\")"
   ]
  },
  {
   "cell_type": "code",
   "execution_count": null,
   "metadata": {
    "vscode": {
     "languageId": "plaintext"
    }
   },
   "outputs": [],
   "source": [
    "# === 8. Балансування даних за допомогою SMOTE ===\n",
    "X = train_data_encoded.drop(columns=['y'])\n",
    "y = train_data_encoded['y']\n",
    "\n",
    "X_train, X_test, y_train, y_test = train_test_split(X, y, test_size=0.2, random_state=42)\n",
    "X_train = X_train.astype(float)\n",
    "X_test = X_test.astype(float)\n",
    "\n",
    "X_train = X_train.fillna(0)\n",
    "X_test = X_test.fillna(0)\n",
    "\n",
    "sm = SMOTE(random_state=42)\n",
    "X_train_resampled, y_train_resampled = sm.fit_resample(X_train, y_train)\n",
    "\n",
    "print(\"Розміри після застосування SMOTE:\")\n",
    "print(f\"X_train_resampled: {X_train_resampled.shape}\")\n",
    "print(f\"y_train_resampled: {y_train_resampled.shape}\")"
   ]
  },
  {
   "cell_type": "code",
   "execution_count": null,
   "metadata": {
    "vscode": {
     "languageId": "plaintext"
    }
   },
   "outputs": [],
   "source": [
    "# === 9. Масштабування даних ===\n",
    "scaler = StandardScaler()\n",
    "X_train_scaled = scaler.fit_transform(X_train_resampled)\n",
    "X_test_scaled = scaler.transform(X_test)\n",
    "X_valid_scaled = scaler.transform(valid_data_encoded)"
   ]
  },
  {
   "cell_type": "code",
   "execution_count": null,
   "metadata": {
    "vscode": {
     "languageId": "plaintext"
    }
   },
   "outputs": [],
   "source": [
    "# === 10. Моделювання та вибір найкращої моделі ===\n",
    "best_model = None\n",
    "best_model_name = None\n",
    "best_balanced_acc = 0.0\n",
    "\n",
    "models = {\n",
    "    'Random Forest': RandomForestClassifier(n_estimators=100, random_state=42),\n",
    "    'Gradient Boosting': GradientBoostingClassifier(n_estimators=100, random_state=42),\n",
    "    'XGBoost': XGBClassifier(use_label_encoder=False, eval_metric='logloss', random_state=42),\n",
    "    'LightGBM': LGBMClassifier(random_state=42),\n",
    "    'CatBoost': CatBoostClassifier(verbose=0, random_state=42)\n",
    "}\n",
    "\n",
    "for model_name, model in models.items():\n",
    "    print(f\"\\nНавчання моделі: {model_name}\")\n",
    "    model.fit(X_train_scaled, y_train_resampled)\n",
    "    y_pred = model.predict(X_test_scaled)\n",
    "    balanced_acc = balanced_accuracy_score(y_test, y_pred)\n",
    "    print(f\"Balanced Accuracy: {balanced_acc:.4f}\")\n",
    "    print(classification_report(y_test, y_pred))\n",
    "    \n",
    "    # Зберігаємо найкращу модель\n",
    "    if balanced_acc > best_balanced_acc:\n",
    "        best_model = model\n",
    "        best_model_name = model_name\n",
    "        best_balanced_acc = balanced_acc\n",
    "\n",
    "print(f\"\\nНайкраща модель: {best_model_name} з Balanced Accuracy: {best_balanced_acc:.4f}\")\n",
    "\n"
   ]
  },
  {
   "cell_type": "code",
   "execution_count": null,
   "metadata": {
    "vscode": {
     "languageId": "plaintext"
    }
   },
   "outputs": [],
   "source": [
    "# === 11. Передбачення для валідаційних даних ===\n",
    "\n",
    "# Перевірка та заповнення пропущених значень у valid_data_encoded\n",
    "if valid_data_encoded.isna().sum().sum() > 0:\n",
    "    print(\"Пропущені значення в valid_data_encoded виявлено! Заповнюємо нулями.\")\n",
    "    valid_data_encoded = valid_data_encoded.fillna(0)\n",
    "\n",
    "# Масштабування даних\n",
    "X_valid_scaled = scaler.transform(valid_data_encoded)\n",
    "\n",
    "# Перевірка наявності NaN після масштабування\n",
    "print(\"Кількість NaN у X_valid_scaled:\", np.isnan(X_valid_scaled).sum())\n",
    "assert not np.isnan(X_valid_scaled).any(), \"У X_valid_scaled залишаються NaN!\"\n",
    "\n",
    "# Використання найкращої моделі для передбачення\n",
    "y_valid_pred = best_model.predict(X_valid_scaled)\n",
    "\n",
    "# Збереження результатів\n",
    "result_df = pd.DataFrame({'index': np.arange(len(y_valid_pred)), 'y': y_valid_pred})\n",
    "result_df.to_csv('submission.csv', index=False)\n",
    "print(f\"Прогнози збережено у файл submission.csv за допомогою моделі {best_model_name}\")"
   ]
  }
 ],
 "metadata": {
  "language_info": {
   "name": "python"
  }
 },
 "nbformat": 4,
 "nbformat_minor": 2
}
